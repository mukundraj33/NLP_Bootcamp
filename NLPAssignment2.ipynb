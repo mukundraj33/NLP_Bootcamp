{
  "nbformat": 4,
  "nbformat_minor": 0,
  "metadata": {
    "colab": {
      "provenance": []
    },
    "kernelspec": {
      "name": "python3",
      "display_name": "Python 3"
    },
    "language_info": {
      "name": "python"
    }
  },
  "cells": [
    {
      "cell_type": "code",
      "execution_count": 2,
      "metadata": {
        "colab": {
          "base_uri": "https://localhost:8080/",
          "height": 73
        },
        "id": "MzFvwgJ4h-ae",
        "outputId": "48ff5491-3bfd-4d29-d2e9-175cdb188cc4"
      },
      "outputs": [
        {
          "output_type": "display_data",
          "data": {
            "text/plain": [
              "<IPython.core.display.HTML object>"
            ],
            "text/html": [
              "\n",
              "     <input type=\"file\" id=\"files-5b591d46-a3a5-4e6f-952e-14c333a39af6\" name=\"files[]\" multiple disabled\n",
              "        style=\"border:none\" />\n",
              "     <output id=\"result-5b591d46-a3a5-4e6f-952e-14c333a39af6\">\n",
              "      Upload widget is only available when the cell has been executed in the\n",
              "      current browser session. Please rerun this cell to enable.\n",
              "      </output>\n",
              "      <script>// Copyright 2017 Google LLC\n",
              "//\n",
              "// Licensed under the Apache License, Version 2.0 (the \"License\");\n",
              "// you may not use this file except in compliance with the License.\n",
              "// You may obtain a copy of the License at\n",
              "//\n",
              "//      http://www.apache.org/licenses/LICENSE-2.0\n",
              "//\n",
              "// Unless required by applicable law or agreed to in writing, software\n",
              "// distributed under the License is distributed on an \"AS IS\" BASIS,\n",
              "// WITHOUT WARRANTIES OR CONDITIONS OF ANY KIND, either express or implied.\n",
              "// See the License for the specific language governing permissions and\n",
              "// limitations under the License.\n",
              "\n",
              "/**\n",
              " * @fileoverview Helpers for google.colab Python module.\n",
              " */\n",
              "(function(scope) {\n",
              "function span(text, styleAttributes = {}) {\n",
              "  const element = document.createElement('span');\n",
              "  element.textContent = text;\n",
              "  for (const key of Object.keys(styleAttributes)) {\n",
              "    element.style[key] = styleAttributes[key];\n",
              "  }\n",
              "  return element;\n",
              "}\n",
              "\n",
              "// Max number of bytes which will be uploaded at a time.\n",
              "const MAX_PAYLOAD_SIZE = 100 * 1024;\n",
              "\n",
              "function _uploadFiles(inputId, outputId) {\n",
              "  const steps = uploadFilesStep(inputId, outputId);\n",
              "  const outputElement = document.getElementById(outputId);\n",
              "  // Cache steps on the outputElement to make it available for the next call\n",
              "  // to uploadFilesContinue from Python.\n",
              "  outputElement.steps = steps;\n",
              "\n",
              "  return _uploadFilesContinue(outputId);\n",
              "}\n",
              "\n",
              "// This is roughly an async generator (not supported in the browser yet),\n",
              "// where there are multiple asynchronous steps and the Python side is going\n",
              "// to poll for completion of each step.\n",
              "// This uses a Promise to block the python side on completion of each step,\n",
              "// then passes the result of the previous step as the input to the next step.\n",
              "function _uploadFilesContinue(outputId) {\n",
              "  const outputElement = document.getElementById(outputId);\n",
              "  const steps = outputElement.steps;\n",
              "\n",
              "  const next = steps.next(outputElement.lastPromiseValue);\n",
              "  return Promise.resolve(next.value.promise).then((value) => {\n",
              "    // Cache the last promise value to make it available to the next\n",
              "    // step of the generator.\n",
              "    outputElement.lastPromiseValue = value;\n",
              "    return next.value.response;\n",
              "  });\n",
              "}\n",
              "\n",
              "/**\n",
              " * Generator function which is called between each async step of the upload\n",
              " * process.\n",
              " * @param {string} inputId Element ID of the input file picker element.\n",
              " * @param {string} outputId Element ID of the output display.\n",
              " * @return {!Iterable<!Object>} Iterable of next steps.\n",
              " */\n",
              "function* uploadFilesStep(inputId, outputId) {\n",
              "  const inputElement = document.getElementById(inputId);\n",
              "  inputElement.disabled = false;\n",
              "\n",
              "  const outputElement = document.getElementById(outputId);\n",
              "  outputElement.innerHTML = '';\n",
              "\n",
              "  const pickedPromise = new Promise((resolve) => {\n",
              "    inputElement.addEventListener('change', (e) => {\n",
              "      resolve(e.target.files);\n",
              "    });\n",
              "  });\n",
              "\n",
              "  const cancel = document.createElement('button');\n",
              "  inputElement.parentElement.appendChild(cancel);\n",
              "  cancel.textContent = 'Cancel upload';\n",
              "  const cancelPromise = new Promise((resolve) => {\n",
              "    cancel.onclick = () => {\n",
              "      resolve(null);\n",
              "    };\n",
              "  });\n",
              "\n",
              "  // Wait for the user to pick the files.\n",
              "  const files = yield {\n",
              "    promise: Promise.race([pickedPromise, cancelPromise]),\n",
              "    response: {\n",
              "      action: 'starting',\n",
              "    }\n",
              "  };\n",
              "\n",
              "  cancel.remove();\n",
              "\n",
              "  // Disable the input element since further picks are not allowed.\n",
              "  inputElement.disabled = true;\n",
              "\n",
              "  if (!files) {\n",
              "    return {\n",
              "      response: {\n",
              "        action: 'complete',\n",
              "      }\n",
              "    };\n",
              "  }\n",
              "\n",
              "  for (const file of files) {\n",
              "    const li = document.createElement('li');\n",
              "    li.append(span(file.name, {fontWeight: 'bold'}));\n",
              "    li.append(span(\n",
              "        `(${file.type || 'n/a'}) - ${file.size} bytes, ` +\n",
              "        `last modified: ${\n",
              "            file.lastModifiedDate ? file.lastModifiedDate.toLocaleDateString() :\n",
              "                                    'n/a'} - `));\n",
              "    const percent = span('0% done');\n",
              "    li.appendChild(percent);\n",
              "\n",
              "    outputElement.appendChild(li);\n",
              "\n",
              "    const fileDataPromise = new Promise((resolve) => {\n",
              "      const reader = new FileReader();\n",
              "      reader.onload = (e) => {\n",
              "        resolve(e.target.result);\n",
              "      };\n",
              "      reader.readAsArrayBuffer(file);\n",
              "    });\n",
              "    // Wait for the data to be ready.\n",
              "    let fileData = yield {\n",
              "      promise: fileDataPromise,\n",
              "      response: {\n",
              "        action: 'continue',\n",
              "      }\n",
              "    };\n",
              "\n",
              "    // Use a chunked sending to avoid message size limits. See b/62115660.\n",
              "    let position = 0;\n",
              "    do {\n",
              "      const length = Math.min(fileData.byteLength - position, MAX_PAYLOAD_SIZE);\n",
              "      const chunk = new Uint8Array(fileData, position, length);\n",
              "      position += length;\n",
              "\n",
              "      const base64 = btoa(String.fromCharCode.apply(null, chunk));\n",
              "      yield {\n",
              "        response: {\n",
              "          action: 'append',\n",
              "          file: file.name,\n",
              "          data: base64,\n",
              "        },\n",
              "      };\n",
              "\n",
              "      let percentDone = fileData.byteLength === 0 ?\n",
              "          100 :\n",
              "          Math.round((position / fileData.byteLength) * 100);\n",
              "      percent.textContent = `${percentDone}% done`;\n",
              "\n",
              "    } while (position < fileData.byteLength);\n",
              "  }\n",
              "\n",
              "  // All done.\n",
              "  yield {\n",
              "    response: {\n",
              "      action: 'complete',\n",
              "    }\n",
              "  };\n",
              "}\n",
              "\n",
              "scope.google = scope.google || {};\n",
              "scope.google.colab = scope.google.colab || {};\n",
              "scope.google.colab._files = {\n",
              "  _uploadFiles,\n",
              "  _uploadFilesContinue,\n",
              "};\n",
              "})(self);\n",
              "</script> "
            ]
          },
          "metadata": {}
        },
        {
          "output_type": "stream",
          "name": "stdout",
          "text": [
            "Saving yelp_reviews_subset_2.csv to yelp_reviews_subset_2 (1).csv\n"
          ]
        }
      ],
      "source": [
        "# Method 1: Direct upload from your computer\n",
        "from google.colab import files\n",
        "uploaded = files.upload()\n",
        "\n"
      ]
    },
    {
      "cell_type": "code",
      "source": [
        "# First, install the missing package\n",
        "!pip install gensim\n",
        "\n",
        "# Now import all libraries\n",
        "import pandas as pd\n",
        "import matplotlib.pyplot as plt\n",
        "import nltk\n",
        "from nltk.tokenize import word_tokenize\n",
        "from nltk.stem import PorterStemmer\n",
        "from sklearn.model_selection import train_test_split\n",
        "import torch.nn as nn\n",
        "import torch.nn.functional as F\n",
        "import torch.optim as optim\n",
        "import torch\n",
        "from gensim import corpora\n",
        "from sklearn.metrics import classification_report\n",
        "\n",
        "# Download NLTK data\n",
        "nltk.download('punkt')\n",
        "nltk.download('punkt_tab')"
      ],
      "metadata": {
        "colab": {
          "base_uri": "https://localhost:8080/"
        },
        "id": "A0wqbGP6k11Y",
        "outputId": "31bf88e1-05f1-49c7-e921-963ebcdeecae"
      },
      "execution_count": 4,
      "outputs": [
        {
          "output_type": "stream",
          "name": "stdout",
          "text": [
            "Collecting gensim\n",
            "  Downloading gensim-4.4.0-cp312-cp312-manylinux_2_24_x86_64.manylinux_2_28_x86_64.whl.metadata (8.4 kB)\n",
            "Requirement already satisfied: numpy>=1.18.5 in /usr/local/lib/python3.12/dist-packages (from gensim) (2.0.2)\n",
            "Requirement already satisfied: scipy>=1.7.0 in /usr/local/lib/python3.12/dist-packages (from gensim) (1.16.2)\n",
            "Requirement already satisfied: smart_open>=1.8.1 in /usr/local/lib/python3.12/dist-packages (from gensim) (7.4.0)\n",
            "Requirement already satisfied: wrapt in /usr/local/lib/python3.12/dist-packages (from smart_open>=1.8.1->gensim) (2.0.0)\n",
            "Downloading gensim-4.4.0-cp312-cp312-manylinux_2_24_x86_64.manylinux_2_28_x86_64.whl (27.9 MB)\n",
            "\u001b[2K   \u001b[90m━━━━━━━━━━━━━━━━━━━━━━━━━━━━━━━━━━━━━━━━\u001b[0m \u001b[32m27.9/27.9 MB\u001b[0m \u001b[31m68.4 MB/s\u001b[0m eta \u001b[36m0:00:00\u001b[0m\n",
            "\u001b[?25hInstalling collected packages: gensim\n",
            "Successfully installed gensim-4.4.0\n"
          ]
        },
        {
          "output_type": "stream",
          "name": "stderr",
          "text": [
            "[nltk_data] Downloading package punkt to /root/nltk_data...\n",
            "[nltk_data]   Unzipping tokenizers/punkt.zip.\n",
            "[nltk_data] Downloading package punkt_tab to /root/nltk_data...\n",
            "[nltk_data]   Unzipping tokenizers/punkt_tab.zip.\n"
          ]
        },
        {
          "output_type": "execute_result",
          "data": {
            "text/plain": [
              "True"
            ]
          },
          "metadata": {},
          "execution_count": 4
        }
      ]
    },
    {
      "cell_type": "code",
      "source": [
        "# Step 2: Load the dataset\n",
        "df = pd.read_csv('yelp_reviews_subset_2.csv')  # Make sure the file name matches your uploaded file\n",
        "print(f\"Dataset shape: {df.shape}\")\n",
        "print(df.head())"
      ],
      "metadata": {
        "colab": {
          "base_uri": "https://localhost:8080/"
        },
        "id": "lDbGBh0tlFc7",
        "outputId": "ac9e3f86-dc59-435a-ab70-0b1884f5b185"
      },
      "execution_count": 5,
      "outputs": [
        {
          "output_type": "stream",
          "name": "stdout",
          "text": [
            "Dataset shape: (500, 3)\n",
            "   Unnamed: 0                                               Text  Labels\n",
            "0           0  My expectations for McDonalds are t rarely hig...       0\n",
            "1           1  I've tried to give this McDonalds a chance but...       0\n",
            "2           2  This McDonald's is so bad it's amazing.  \\n\\nO...       0\n",
            "3           3  We had the worst possible experience at the Ea...       0\n",
            "4           4  They burned my fish and they burned it bad.  O...       2\n"
          ]
        }
      ]
    },
    {
      "cell_type": "code",
      "source": [
        "# Step 3: Map sentiments and visualize\n",
        "def map_sentiment(stars_received):\n",
        "    if stars_received <= 2:\n",
        "        return -1\n",
        "    elif stars_received == 3:\n",
        "        return 0\n",
        "    else:\n",
        "        return 1\n",
        "\n",
        "# Mapping stars to sentiment into three categories\n",
        "df['sentiment'] = [map_sentiment(x) for x in df['Labels']]\n",
        "\n",
        "# Plotting the sentiment distribution\n",
        "plt.figure()\n",
        "pd.value_counts(df['sentiment']).plot.bar(title=\"Sentiment distribution in df\")\n",
        "plt.xlabel(\"Sentiment\")\n",
        "plt.ylabel(\"No. of rows in df\")\n",
        "plt.show()"
      ],
      "metadata": {
        "colab": {
          "base_uri": "https://localhost:8080/",
          "height": 526
        },
        "id": "o_BWXr1TlM-m",
        "outputId": "1401098d-4d75-4329-cb86-e889e42e9680"
      },
      "execution_count": 6,
      "outputs": [
        {
          "output_type": "stream",
          "name": "stderr",
          "text": [
            "/tmp/ipython-input-666532921.py:15: FutureWarning: pandas.value_counts is deprecated and will be removed in a future version. Use pd.Series(obj).value_counts() instead.\n",
            "  pd.value_counts(df['sentiment']).plot.bar(title=\"Sentiment distribution in df\")\n"
          ]
        },
        {
          "output_type": "display_data",
          "data": {
            "text/plain": [
              "<Figure size 640x480 with 1 Axes>"
            ],
            "image/png": "[encoded data removed]"
          },
          "metadata": {}
        }
      ]
    },
    {
      "cell_type": "code",
      "source": [
        "# Step 4: Tokenize and stem the text\n",
        "# Tokenize each sentence into word tokens\n",
        "df['tokenized_text'] = [word_tokenize(str(text)) for text in df['Text']]\n",
        "print(df['tokenized_text'].head(10))\n",
        "\n",
        "ps = PorterStemmer()\n",
        "# Use Porter Stemmer to find stem words\n",
        "df['stemmed_tokens'] = [[ps.stem(word) for word in tokens] for tokens in df['tokenized_text']]\n",
        "print(df['stemmed_tokens'].head(10))"
      ],
      "metadata": {
        "colab": {
          "base_uri": "https://localhost:8080/"
        },
        "id": "BjeTJWHPlOqN",
        "outputId": "7bcca2c2-7a4c-44a2-8ac0-8586d6e4bb9b"
      },
      "execution_count": 7,
      "outputs": [
        {
          "output_type": "stream",
          "name": "stdout",
          "text": [
            "0    [My, expectations, for, McDonalds, are, t, rar...\n",
            "1    [I, 've, tried, to, give, this, McDonalds, a, ...\n",
            "2    [This, McDonald, 's, is, so, bad, it, 's, amaz...\n",
            "3    [We, had, the, worst, possible, experience, at...\n",
            "4    [They, burned, my, fish, and, they, burned, it...\n",
            "5    [Some, how, even, though, the, food, at, this,...\n",
            "6    [Mmm, ..., peppermint, mocha\\n\\nIn, my, quest,...\n",
            "7    [If, there, was, ever, a, \\, '', get, your, co...\n",
            "8    [I, just, realized, they, remodeled, this, one...\n",
            "9    [Great, location, !, Close, to, shops, and, th...\n",
            "Name: tokenized_text, dtype: object\n",
            "0    [my, expect, for, mcdonald, are, t, rare, high...\n",
            "1    [i, 've, tri, to, give, thi, mcdonald, a, chan...\n",
            "2    [thi, mcdonald, 's, is, so, bad, it, 's, amaz,...\n",
            "3    [we, had, the, worst, possibl, experi, at, the...\n",
            "4    [they, burn, my, fish, and, they, burn, it, ba...\n",
            "5    [some, how, even, though, the, food, at, thi, ...\n",
            "6    [mmm, ..., peppermint, mocha\\n\\nin, my, quest,...\n",
            "7    [if, there, wa, ever, a, \\, '', get, your, cof...\n",
            "8    [i, just, realiz, they, remodel, thi, one, rec...\n",
            "9    [great, locat, !, close, to, shop, and, theatr...\n",
            "Name: stemmed_tokens, dtype: object\n"
          ]
        }
      ]
    },
    {
      "cell_type": "code",
      "source": [
        "# Step 5: Split dataset into training and testing sets\n",
        "def split_train_test(df, test_size=0.3, shuffle_state=True):\n",
        "    X_train, X_test, Y_train, Y_test = train_test_split(\n",
        "        df[[\"Text\", \"Labels\", \"tokenized_text\", \"stemmed_tokens\"]],\n",
        "        df['sentiment'],\n",
        "        shuffle=shuffle_state,\n",
        "        test_size=test_size,\n",
        "        random_state=15\n",
        "    )\n",
        "    print(\"Value counts for Train sentiments\")\n",
        "    print(Y_train.value_counts())\n",
        "    print(\"Value counts for Test sentiments\")\n",
        "    print(Y_test.value_counts())\n",
        "    print(type(X_train))\n",
        "    print(type(Y_train))\n",
        "\n",
        "    X_train = X_train.reset_index()\n",
        "    X_test = X_test.reset_index()\n",
        "    Y_train = Y_train.to_frame()\n",
        "    Y_train = Y_train.reset_index()\n",
        "    Y_test = Y_test.to_frame()\n",
        "    Y_test = Y_test.reset_index()\n",
        "\n",
        "    print(X_train.head())\n",
        "    return X_train, X_test, Y_train, Y_test\n",
        "\n",
        "# Call the train_test_split\n",
        "X_train, X_test, Y_train, Y_test = split_train_test(df)"
      ],
      "metadata": {
        "colab": {
          "base_uri": "https://localhost:8080/"
        },
        "id": "MPwqRZhplSWw",
        "outputId": "014bd4f2-c7e0-4416-f164-8c22e6c14816"
      },
      "execution_count": 8,
      "outputs": [
        {
          "output_type": "stream",
          "name": "stdout",
          "text": [
            "Value counts for Train sentiments\n",
            "sentiment\n",
            "-1    255\n",
            " 1     49\n",
            " 0     46\n",
            "Name: count, dtype: int64\n",
            "Value counts for Test sentiments\n",
            "sentiment\n",
            "-1    108\n",
            " 1     21\n",
            " 0     21\n",
            "Name: count, dtype: int64\n",
            "<class 'pandas.core.frame.DataFrame'>\n",
            "<class 'pandas.core.series.Series'>\n",
            "   index                                               Text  Labels  \\\n",
            "0    139  The food is standard American fare--a bit over...       1   \n",
            "1    129  I'm not much of a beer drinker, but my fiancee...       3   \n",
            "2    258  ok so i've eaten here more than once but just ...       1   \n",
            "3    227  Food was ok had a steak w/ shrimp side Ass mas...       1   \n",
            "4     60  He was incredibly sexist/homophobic. He could ...       0   \n",
            "\n",
            "                                      tokenized_text  \\\n",
            "0  [The, food, is, standard, American, fare, --, ...   \n",
            "1  [I, 'm, not, much, of, a, beer, drinker, ,, bu...   \n",
            "2  [ok, so, i, 've, eaten, here, more, than, once...   \n",
            "3  [Food, was, ok, had, a, steak, w/, shrimp, sid...   \n",
            "4  [He, was, incredibly, sexist/homophobic, ., He...   \n",
            "\n",
            "                                      stemmed_tokens  \n",
            "0  [the, food, is, standard, american, fare, --, ...  \n",
            "1  [i, 'm, not, much, of, a, beer, drinker, ,, bu...  \n",
            "2  [ok, so, i, 've, eaten, here, more, than, onc,...  \n",
            "3  [food, wa, ok, had, a, steak, w/, shrimp, side...  \n",
            "4  [he, wa, incred, sexist/homophob, ., he, could...  \n"
          ]
        }
      ]
    },
    {
      "cell_type": "code",
      "source": [
        "# Step 6: Set device (GPU if available, else CPU)\n",
        "device = torch.device('cuda' if torch.cuda.is_available() else 'cpu')\n",
        "print(\"Device available for running: \")\n",
        "print(device)"
      ],
      "metadata": {
        "colab": {
          "base_uri": "https://localhost:8080/"
        },
        "id": "mrNH0v3ZlV8R",
        "outputId": "39a25b1f-c18a-4e2b-c329-d2e7ba0b1018"
      },
      "execution_count": 9,
      "outputs": [
        {
          "output_type": "stream",
          "name": "stdout",
          "text": [
            "Device available for running: \n",
            "cpu\n"
          ]
        }
      ]
    },
    {
      "cell_type": "code",
      "source": [
        "# Step 7: Define Feedforward Neural Network Model\n",
        "class FeedforwardNeuralNetModel(nn.Module):\n",
        "    def __init__(self, input_dim, hidden_dim, output_dim):\n",
        "        super(FeedforwardNeuralNetModel, self).__init__()\n",
        "\n",
        "        # Linear function 1: vocab_size --> hidden_dim\n",
        "        self.fc1 = nn.Linear(input_dim, hidden_dim)\n",
        "\n",
        "        # Non-linearity 1\n",
        "        self.relu1 = nn.ReLU()\n",
        "\n",
        "        # Linear function 2: hidden_dim --> hidden_dim\n",
        "        self.fc2 = nn.Linear(hidden_dim, hidden_dim)\n",
        "\n",
        "        # Non-linearity 2\n",
        "        self.relu2 = nn.ReLU()\n",
        "\n",
        "        # Linear function 3 (readout): hidden_dim --> output_dim\n",
        "        self.fc3 = nn.Linear(hidden_dim, output_dim)\n",
        "\n",
        "    def forward(self, x):\n",
        "        # Forward pass through fully connected layer 1\n",
        "        out = self.fc1(x)\n",
        "\n",
        "        # Non-linearity 1\n",
        "        out = self.relu1(out)\n",
        "\n",
        "        # Forward pass through fully connected layer 2\n",
        "        out = self.fc2(out)\n",
        "\n",
        "        # Non-linearity 2\n",
        "        out = self.relu2(out)\n",
        "\n",
        "        # Forward pass through fully connected layer 3\n",
        "        out = self.fc3(out)\n",
        "\n",
        "        return F.softmax(out, dim=1)"
      ],
      "metadata": {
        "id": "GAI7su6SlY8j"
      },
      "execution_count": 10,
      "outputs": []
    },
    {
      "cell_type": "code",
      "source": [
        "# Step 8: Create dictionary of tokens\n",
        "def make_dict(top_data_df_small, padding=True):\n",
        "    if padding:\n",
        "        print(\"Dictionary with padded token added\")\n",
        "        review_dict = corpora.Dictionary([['pad']])\n",
        "        review_dict.add_documents(top_data_df_small['stemmed_tokens'])\n",
        "    else:\n",
        "        print(\"Dictionary without padding\")\n",
        "        review_dict = corpora.Dictionary(top_data_df_small['stemmed_tokens'])\n",
        "    return review_dict\n",
        "\n",
        "# Make the dictionary without padding for the basic models\n",
        "review_dict = make_dict(df, padding=False)"
      ],
      "metadata": {
        "colab": {
          "base_uri": "https://localhost:8080/"
        },
        "id": "c7KHqYu8lbr0",
        "outputId": "52f1de7c-25f8-4dde-87f1-83c9b3caaa9a"
      },
      "execution_count": 11,
      "outputs": [
        {
          "output_type": "stream",
          "name": "stdout",
          "text": [
            "Dictionary without padding\n"
          ]
        }
      ]
    },
    {
      "cell_type": "code",
      "source": [
        "# Step 9: Create functions for BOW vectors and targets\n",
        "VOCAB_SIZE = len(review_dict)\n",
        "NUM_LABELS = 3\n",
        "\n",
        "# Function to make bow vector to be used as input to network\n",
        "def make_bow_vector(review_dict, sentence):\n",
        "    vec = torch.zeros(VOCAB_SIZE, dtype=torch.float64, device=device)\n",
        "    for word in sentence:\n",
        "        if word in review_dict.token2id:\n",
        "            vec[review_dict.token2id[word]] += 1\n",
        "    return vec.view(1, -1).float()\n",
        "\n",
        "# Function to get the output tensor\n",
        "def make_target(label):\n",
        "    if label == -1:\n",
        "        return torch.tensor([0], dtype=torch.long, device=device)\n",
        "    elif label == 0:\n",
        "        return torch.tensor([1], dtype=torch.long, device=device)\n",
        "    else:\n",
        "        return torch.tensor([2], dtype=torch.long, device=device)"
      ],
      "metadata": {
        "id": "bB8oiSI3leQP"
      },
      "execution_count": 12,
      "outputs": []
    },
    {
      "cell_type": "code",
      "source": [
        "# Step 10: Model initialization\n",
        "input_dim = VOCAB_SIZE\n",
        "hidden_dim = 500\n",
        "output_dim = 3\n",
        "num_epochs = 100\n",
        "\n",
        "# Call the FeedForwardNeuralNetwork Class object\n",
        "ff_nn_bow_model = FeedforwardNeuralNetModel(input_dim, hidden_dim, output_dim)\n",
        "\n",
        "# Move the model to device\n",
        "ff_nn_bow_model = ff_nn_bow_model.to(device)\n",
        "\n",
        "# Define the loss function as Cross Entropy Loss\n",
        "loss_function = nn.CrossEntropyLoss()\n",
        "\n",
        "# Define a Stochastic Gradient Descent Optimizer with learning rate of 1e-3\n",
        "optimizer = optim.SGD(ff_nn_bow_model.parameters(), lr=0.001)"
      ],
      "metadata": {
        "id": "NXnKNmA2lhlQ"
      },
      "execution_count": 13,
      "outputs": []
    },
    {
      "cell_type": "code",
      "source": [
        "# Step 11: Training loop\n",
        "ffnn_loss_file_name = 'ffnn_bow_class_big_loss_500_epoch_100_less_lr.csv'\n",
        "f = open(ffnn_loss_file_name,'w')\n",
        "f.write('iter, loss')\n",
        "f.write('\\n')\n",
        "losses = []\n",
        "iter = 0\n",
        "\n",
        "# Start training\n",
        "for epoch in range(num_epochs):\n",
        "    if (epoch+1) % 25 == 0:\n",
        "        print(\"Epoch completed: \" + str(epoch+1))\n",
        "    train_loss = 0\n",
        "    for index, row in X_train.iterrows():\n",
        "        # Clearing the accumulated gradients\n",
        "        optimizer.zero_grad()\n",
        "\n",
        "        # Make the bag of words vector for stemmed tokens\n",
        "        bow_vec = make_bow_vector(review_dict, row['stemmed_tokens'])\n",
        "\n",
        "        # Forward pass to get output\n",
        "        probs = ff_nn_bow_model(bow_vec)\n",
        "\n",
        "        # Get the target label\n",
        "        target = make_target(Y_train['sentiment'][index])\n",
        "\n",
        "        # Calculate Loss: softmax --> cross entropy loss\n",
        "        loss = loss_function(probs, target)\n",
        "\n",
        "        # Accumulating the loss over time\n",
        "        train_loss += loss.item()\n",
        "\n",
        "        # Getting gradients w.r.t. parameters\n",
        "        loss.backward()\n",
        "\n",
        "        # Updating parameters\n",
        "        optimizer.step()\n",
        "\n",
        "    f.write(str((epoch+1)) + \",\" + str(train_loss / len(X_train)))\n",
        "    f.write('\\n')\n",
        "    train_loss = 0\n",
        "\n",
        "f.close()"
      ],
      "metadata": {
        "colab": {
          "base_uri": "https://localhost:8080/"
        },
        "id": "iuk7z97tllMd",
        "outputId": "5af52329-3480-44eb-8656-2bdd4ea9b0e9"
      },
      "execution_count": 14,
      "outputs": [
        {
          "output_type": "stream",
          "name": "stdout",
          "text": [
            "Epoch completed: 25\n",
            "Epoch completed: 50\n",
            "Epoch completed: 75\n",
            "Epoch completed: 100\n"
          ]
        }
      ]
    },
    {
      "cell_type": "code",
      "source": [
        "# Step 12: Model evaluation\n",
        "bow_ff_nn_predictions = []\n",
        "original_lables_ff_bow = []\n",
        "\n",
        "with torch.no_grad():\n",
        "    for index, row in X_test.iterrows():\n",
        "        bow_vec = make_bow_vector(review_dict, row['stemmed_tokens'])\n",
        "        probs = ff_nn_bow_model(bow_vec)\n",
        "        bow_ff_nn_predictions.append(torch.argmax(probs, dim=1).cpu().numpy()[0])\n",
        "        original_lables_ff_bow.append(make_target(Y_test['sentiment'][index]).cpu().numpy()[0])\n",
        "\n",
        "print(classification_report(original_lables_ff_bow, bow_ff_nn_predictions))\n",
        "\n",
        "ffnn_loss_df = pd.read_csv(ffnn_loss_file_name)\n",
        "print(len(ffnn_loss_df))\n",
        "print(ffnn_loss_df.columns)\n",
        "ffnn_plt_500_padding_100_epochs = ffnn_loss_df[' loss'].plot()\n",
        "fig = ffnn_plt_500_padding_100_epochs.get_figure()\n",
        "fig.savefig(\"ffnn_bow_loss_500_padding_100_epochs_less_lr.jpg\")"
      ],
      "metadata": {
        "colab": {
          "base_uri": "https://localhost:8080/",
          "height": 762
        },
        "id": "jRl4qJn4ln2b",
        "outputId": "e72f9b8c-d284-4d16-fe9f-1e32a9d4d1f3"
      },
      "execution_count": 15,
      "outputs": [
        {
          "output_type": "stream",
          "name": "stdout",
          "text": [
            "              precision    recall  f1-score   support\n",
            "\n",
            "           0       0.72      1.00      0.84       108\n",
            "           1       0.00      0.00      0.00        21\n",
            "           2       0.00      0.00      0.00        21\n",
            "\n",
            "    accuracy                           0.72       150\n",
            "   macro avg       0.24      0.33      0.28       150\n",
            "weighted avg       0.52      0.72      0.60       150\n",
            "\n",
            "100\n",
            "Index(['iter', ' loss'], dtype='object')\n"
          ]
        },
        {
          "output_type": "stream",
          "name": "stderr",
          "text": [
            "/usr/local/lib/python3.12/dist-packages/sklearn/metrics/_classification.py:1565: UndefinedMetricWarning: Precision is ill-defined and being set to 0.0 in labels with no predicted samples. Use `zero_division` parameter to control this behavior.\n",
            "  _warn_prf(average, modifier, f\"{metric.capitalize()} is\", len(result))\n",
            "/usr/local/lib/python3.12/dist-packages/sklearn/metrics/_classification.py:1565: UndefinedMetricWarning: Precision is ill-defined and being set to 0.0 in labels with no predicted samples. Use `zero_division` parameter to control this behavior.\n",
            "  _warn_prf(average, modifier, f\"{metric.capitalize()} is\", len(result))\n",
            "/usr/local/lib/python3.12/dist-packages/sklearn/metrics/_classification.py:1565: UndefinedMetricWarning: Precision is ill-defined and being set to 0.0 in labels with no predicted samples. Use `zero_division` parameter to control this behavior.\n",
            "  _warn_prf(average, modifier, f\"{metric.capitalize()} is\", len(result))\n"
          ]
        },
        {
          "output_type": "display_data",
          "data": {
            "text/plain": [
              "<Figure size 640x480 with 1 Axes>"
            ],
            "image/png": "[encoded data removed]"
          },
          "metadata": {}
        }
      ]
    },
    {
      "cell_type": "code",
      "source": [
        "# Step 13: Advanced Model with Dropout\n",
        "class FeedforwardNeuralNetModelWithDropout(nn.Module):\n",
        "    def __init__(self, input_dim, hidden_dim, output_dim, dropout_rate=0.3):\n",
        "        super(FeedforwardNeuralNetModelWithDropout, self).__init__()\n",
        "        self.fc1 = nn.Linear(input_dim, hidden_dim)\n",
        "        self.relu1 = nn.ReLU()\n",
        "        self.dropout1 = nn.Dropout(dropout_rate)\n",
        "\n",
        "        self.fc2 = nn.Linear(hidden_dim, hidden_dim)\n",
        "        self.relu2 = nn.ReLU()\n",
        "        self.dropout2 = nn.Dropout(dropout_rate)\n",
        "\n",
        "        self.fc3 = nn.Linear(hidden_dim, output_dim)\n",
        "\n",
        "    def forward(self, x):\n",
        "        out = self.fc1(x)\n",
        "        out = self.relu1(out)\n",
        "        out = self.dropout1(out)\n",
        "\n",
        "        out = self.fc2(out)\n",
        "        out = self.relu2(out)\n",
        "        out = self.dropout2(out)\n",
        "\n",
        "        out = self.fc3(out)\n",
        "        return F.softmax(out, dim=1)\n",
        "\n",
        "# Initialize dropout model\n",
        "ff_nn_bow_model_dropout = FeedforwardNeuralNetModelWithDropout(input_dim, hidden_dim, output_dim, dropout_rate=0.3)\n",
        "ff_nn_bow_model_dropout.to(device)\n",
        "\n",
        "loss_function_dropout = nn.CrossEntropyLoss()\n",
        "optimizer_dropout = optim.SGD(ff_nn_bow_model_dropout.parameters(), lr=0.001)\n",
        "\n",
        "# Training loop for dropout model\n",
        "ffnn_loss_file_name_dropout = 'ffnn_bow_class_big_loss_500_epoch_100_less_lr_dropout.csv'\n",
        "f_dropout = open(ffnn_loss_file_name_dropout, 'w')\n",
        "f_dropout.write('iter, loss\\n')\n",
        "\n",
        "for epoch in range(num_epochs):\n",
        "    if (epoch + 1) % 25 == 0:\n",
        "        print(f\"Epoch completed: {epoch + 1}\")\n",
        "\n",
        "    train_loss_dropout = 0\n",
        "    ff_nn_bow_model_dropout.train()  # Set model to training mode\n",
        "\n",
        "    for index, row in X_train.iterrows():\n",
        "        optimizer_dropout.zero_grad()\n",
        "\n",
        "        bow_vec = make_bow_vector(review_dict, row['stemmed_tokens'])\n",
        "        probs = ff_nn_bow_model_dropout(bow_vec)\n",
        "        target = make_target(Y_train['sentiment'][index])\n",
        "\n",
        "        loss = loss_function_dropout(probs, target)\n",
        "        train_loss_dropout += loss.item()\n",
        "\n",
        "        loss.backward()\n",
        "        optimizer_dropout.step()\n",
        "\n",
        "    f_dropout.write(f\"{epoch + 1},{train_loss_dropout / len(X_train)}\\n\")\n",
        "\n",
        "f_dropout.close()"
      ],
      "metadata": {
        "colab": {
          "base_uri": "https://localhost:8080/"
        },
        "id": "M2QmLzHHlsRK",
        "outputId": "e500087e-68d3-4240-eb14-53d379eb90fe"
      },
      "execution_count": 16,
      "outputs": [
        {
          "output_type": "stream",
          "name": "stdout",
          "text": [
            "Epoch completed: 25\n",
            "Epoch completed: 50\n",
            "Epoch completed: 75\n",
            "Epoch completed: 100\n"
          ]
        }
      ]
    },
    {
      "cell_type": "code",
      "source": [
        "# Step 14: Evaluate dropout model\n",
        "bow_ff_nn_predictions_dropout = []\n",
        "original_lables_ff_bow_dropout = []\n",
        "\n",
        "with torch.no_grad():\n",
        "    ff_nn_bow_model_dropout.eval()  # Set model to evaluation mode\n",
        "    for index, row in X_test.iterrows():\n",
        "        bow_vec = make_bow_vector(review_dict, row['stemmed_tokens'])\n",
        "        probs = ff_nn_bow_model_dropout(bow_vec)\n",
        "        bow_ff_nn_predictions_dropout.append(torch.argmax(probs, dim=1).cpu().numpy()[0])\n",
        "        original_lables_ff_bow_dropout.append(make_target(Y_test['sentiment'][index]).cpu().numpy()[0])\n",
        "\n",
        "print(\"Dropout Model Classification Report:\")\n",
        "print(classification_report(original_lables_ff_bow_dropout, bow_ff_nn_predictions_dropout))\n",
        "\n",
        "# Compare both models\n",
        "ffnn_loss_df_dropout = pd.read_csv(ffnn_loss_file_name_dropout)\n",
        "plt.figure(figsize=(12, 6))\n",
        "plt.plot(ffnn_loss_df['iter'], ffnn_loss_df[' loss'], label='Without Dropout')\n",
        "plt.plot(ffnn_loss_df_dropout['iter'], ffnn_loss_df_dropout[' loss'], label='With Dropout')\n",
        "plt.xlabel('Epochs')\n",
        "plt.ylabel('Loss')\n",
        "plt.title('Training Loss Comparison: With vs Without Dropout')\n",
        "plt.legend()\n",
        "plt.savefig(\"loss_comparison.jpg\")\n",
        "plt.show()"
      ],
      "metadata": {
        "colab": {
          "base_uri": "https://localhost:8080/",
          "height": 754
        },
        "id": "oZnPv0l3lwJH",
        "outputId": "e320e21c-a534-4a75-a283-af8a3435512a"
      },
      "execution_count": 17,
      "outputs": [
        {
          "output_type": "stream",
          "name": "stdout",
          "text": [
            "Dropout Model Classification Report:\n",
            "              precision    recall  f1-score   support\n",
            "\n",
            "           0       0.72      1.00      0.84       108\n",
            "           1       0.00      0.00      0.00        21\n",
            "           2       0.00      0.00      0.00        21\n",
            "\n",
            "    accuracy                           0.72       150\n",
            "   macro avg       0.24      0.33      0.28       150\n",
            "weighted avg       0.52      0.72      0.60       150\n",
            "\n"
          ]
        },
        {
          "output_type": "stream",
          "name": "stderr",
          "text": [
            "/usr/local/lib/python3.12/dist-packages/sklearn/metrics/_classification.py:1565: UndefinedMetricWarning: Precision is ill-defined and being set to 0.0 in labels with no predicted samples. Use `zero_division` parameter to control this behavior.\n",
            "  _warn_prf(average, modifier, f\"{metric.capitalize()} is\", len(result))\n",
            "/usr/local/lib/python3.12/dist-packages/sklearn/metrics/_classification.py:1565: UndefinedMetricWarning: Precision is ill-defined and being set to 0.0 in labels with no predicted samples. Use `zero_division` parameter to control this behavior.\n",
            "  _warn_prf(average, modifier, f\"{metric.capitalize()} is\", len(result))\n",
            "/usr/local/lib/python3.12/dist-packages/sklearn/metrics/_classification.py:1565: UndefinedMetricWarning: Precision is ill-defined and being set to 0.0 in labels with no predicted samples. Use `zero_division` parameter to control this behavior.\n",
            "  _warn_prf(average, modifier, f\"{metric.capitalize()} is\", len(result))\n"
          ]
        },
        {
          "output_type": "display_data",
          "data": {
            "text/plain": [
              "<Figure size 1200x600 with 1 Axes>"
            ],
            "image/png": "[encoded data removed]"
          },
          "metadata": {}
        }
      ]
    }
  ]
}